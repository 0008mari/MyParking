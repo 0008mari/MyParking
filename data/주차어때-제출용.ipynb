{
 "cells": [
  {
   "cell_type": "markdown",
   "metadata": {},
   "source": [
    "# 주차어때 데이터 파트\n"
   ]
  },
  {
   "cell_type": "markdown",
   "metadata": {},
   "source": [
    "## 1. 주차장 정보에서 url 가져오기\n",
    "\n",
    "### 1-1 데이터 정제"
   ]
  },
  {
   "cell_type": "code",
   "execution_count": 4,
   "metadata": {},
   "outputs": [],
   "source": [
    "import pandas as pd\n",
    "import re             # 정규표현식"
   ]
  },
  {
   "cell_type": "code",
   "execution_count": 5,
   "metadata": {},
   "outputs": [],
   "source": [
    "data = pd.read_csv(\"서울시 공영주차장 안내 정보.csv\", encoding='utf-8')"
   ]
  },
  {
   "cell_type": "code",
   "execution_count": 6,
   "metadata": {
    "scrolled": false
   },
   "outputs": [
    {
     "data": {
      "text/html": [
       "<div>\n",
       "<style scoped>\n",
       "    .dataframe tbody tr th:only-of-type {\n",
       "        vertical-align: middle;\n",
       "    }\n",
       "\n",
       "    .dataframe tbody tr th {\n",
       "        vertical-align: top;\n",
       "    }\n",
       "\n",
       "    .dataframe thead th {\n",
       "        text-align: right;\n",
       "    }\n",
       "</style>\n",
       "<table border=\"1\" class=\"dataframe\">\n",
       "  <thead>\n",
       "    <tr style=\"text-align: right;\">\n",
       "      <th></th>\n",
       "      <th>주차장코드</th>\n",
       "      <th>주차장명</th>\n",
       "      <th>주소</th>\n",
       "    </tr>\n",
       "  </thead>\n",
       "  <tbody>\n",
       "    <tr>\n",
       "      <th>0</th>\n",
       "      <td>1010089</td>\n",
       "      <td>초안산근린공원주차장(구)</td>\n",
       "      <td>도봉구 창동 24-0</td>\n",
       "    </tr>\n",
       "    <tr>\n",
       "      <th>1</th>\n",
       "      <td>1012254</td>\n",
       "      <td>마들스타디움(근린공원)(구)</td>\n",
       "      <td>노원구 상계동 770-2</td>\n",
       "    </tr>\n",
       "    <tr>\n",
       "      <th>2</th>\n",
       "      <td>1013181</td>\n",
       "      <td>마장동(건물) 공영주차장(구)</td>\n",
       "      <td>성동구 마장동 463-2</td>\n",
       "    </tr>\n",
       "  </tbody>\n",
       "</table>\n",
       "</div>"
      ],
      "text/plain": [
       "     주차장코드              주차장명             주소\n",
       "0  1010089     초안산근린공원주차장(구)    도봉구 창동 24-0\n",
       "1  1012254   마들스타디움(근린공원)(구)  노원구 상계동 770-2\n",
       "2  1013181  마장동(건물) 공영주차장(구)  성동구 마장동 463-2"
      ]
     },
     "execution_count": 6,
     "metadata": {},
     "output_type": "execute_result"
    }
   ],
   "source": [
    "columns = ['주차장코드','주차장명', '주소'] #, '주차장 위치 좌표 위도', '주차장 위치 좌표 경도']\n",
    "data2 = data[columns].copy()\n",
    "data2.head(3)"
   ]
  },
  {
   "cell_type": "code",
   "execution_count": 7,
   "metadata": {},
   "outputs": [
    {
     "data": {
      "text/plain": [
       "1538796    310\n",
       "1503518    299\n",
       "1495387    244\n",
       "1552996    194\n",
       "1536637    175\n",
       "          ... \n",
       "1579833      1\n",
       "1579832      1\n",
       "1579598      1\n",
       "1579566      1\n",
       "984688       1\n",
       "Name: 주차장코드, Length: 1107, dtype: int64"
      ]
     },
     "execution_count": 7,
     "metadata": {},
     "output_type": "execute_result"
    }
   ],
   "source": [
    "data['주차장코드'].value_counts()"
   ]
  },
  {
   "cell_type": "markdown",
   "metadata": {},
   "source": [
    "데이터에 중복된 column이 존재한다. 중복된 주차장코드의 column들이 존재하는 이유는 다음과 같다.\n",
    "\n",
    "> 앞 부분만 보시면 동일한 데이터로 보일 수 있으나, 시트 가장 오른쪽의 위도/경도 컬럼을 확인해 보시면 값이 다르게 표시되고 있습니다.\n",
    "> 노상주차장의 경우 도로의 한쪽을 주차구역으로 만든 것으로, 주차장을 설치한 도로 길이만큼 위도/경도값이 여럿일 수 밖에 없습니다.\n",
    "> 위와 같은 이유로 시작점이나 중간점, 끝점을 하나 지정하셔서 대표값으로 사용하시면 될 것으로 보입니다.\n",
    "> -서울시 공영주차장 안내 정보 관리자\n",
    "\n",
    "리뷰는 그룹화하여 제공되므로, 그룹 별로 시작값만 남기고 제거한다. 중복이 사라져 많이 비므로 인덱스를 재설정한다. 중복 제거 전 16000개의 데이터가 있었는데 제거 후 1107개가 남는다."
   ]
  },
  {
   "cell_type": "code",
   "execution_count": 8,
   "metadata": {
    "scrolled": true
   },
   "outputs": [
    {
     "data": {
      "text/html": [
       "<div>\n",
       "<style scoped>\n",
       "    .dataframe tbody tr th:only-of-type {\n",
       "        vertical-align: middle;\n",
       "    }\n",
       "\n",
       "    .dataframe tbody tr th {\n",
       "        vertical-align: top;\n",
       "    }\n",
       "\n",
       "    .dataframe thead th {\n",
       "        text-align: right;\n",
       "    }\n",
       "</style>\n",
       "<table border=\"1\" class=\"dataframe\">\n",
       "  <thead>\n",
       "    <tr style=\"text-align: right;\">\n",
       "      <th></th>\n",
       "      <th>주차장코드</th>\n",
       "      <th>주차장명</th>\n",
       "      <th>주소</th>\n",
       "    </tr>\n",
       "  </thead>\n",
       "  <tbody>\n",
       "    <tr>\n",
       "      <th>50</th>\n",
       "      <td>1235916</td>\n",
       "      <td>청계2(남) 공영주차장(시)</td>\n",
       "      <td>중구 입정동 29-1</td>\n",
       "    </tr>\n",
       "    <tr>\n",
       "      <th>51</th>\n",
       "      <td>1236307</td>\n",
       "      <td>청계1(남) 공영주차장(시)</td>\n",
       "      <td>중구 수표동 65-4</td>\n",
       "    </tr>\n",
       "    <tr>\n",
       "      <th>52</th>\n",
       "      <td>1236612</td>\n",
       "      <td>남대문 화물 공영주차장(시)</td>\n",
       "      <td>중구 남대문로4가 24-1</td>\n",
       "    </tr>\n",
       "    <tr>\n",
       "      <th>53</th>\n",
       "      <td>1236742</td>\n",
       "      <td>중앙일보사옆 관광버스전용 주차장(시)</td>\n",
       "      <td>중구 순화동 7-0</td>\n",
       "    </tr>\n",
       "    <tr>\n",
       "      <th>54</th>\n",
       "      <td>1236949</td>\n",
       "      <td>한진면세점앞 노상 공영주차장(구)</td>\n",
       "      <td>중구 남대문로5가 533-0 0</td>\n",
       "    </tr>\n",
       "  </tbody>\n",
       "</table>\n",
       "</div>"
      ],
      "text/plain": [
       "      주차장코드                  주차장명                 주소\n",
       "50  1235916       청계2(남) 공영주차장(시)        중구 입정동 29-1\n",
       "51  1236307       청계1(남) 공영주차장(시)        중구 수표동 65-4\n",
       "52  1236612       남대문 화물 공영주차장(시)     중구 남대문로4가 24-1\n",
       "53  1236742  중앙일보사옆 관광버스전용 주차장(시)         중구 순화동 7-0\n",
       "54  1236949    한진면세점앞 노상 공영주차장(구)  중구 남대문로5가 533-0 0"
      ]
     },
     "execution_count": 8,
     "metadata": {},
     "output_type": "execute_result"
    }
   ],
   "source": [
    "data2 = data2.drop_duplicates(['주차장코드'])\n",
    "data2 = data2.reset_index(drop=True)\n",
    "data2[50:55]"
   ]
  },
  {
   "cell_type": "markdown",
   "metadata": {},
   "source": [
    "## 1-2 검색어 생성"
   ]
  },
  {
   "cell_type": "markdown",
   "metadata": {},
   "source": [
    "주차장명을 그대로 검색하면 주차장이 안 나오는 경우가 있다.\n",
    "다음과 같은 원칙에 따라 주차장명을 가공해 검색어를 새로 만든다.\n",
    "* 괄호 안에 들어가는 말은 지운다.\n",
    "* '주차장' 이라는 단어가 포함되어 있지 않은 경우 끝에 붙인다.\n",
    "\n",
    "예시: '은평평화공원(구)' ---> '은평평화공원 주차장'"
   ]
  },
  {
   "cell_type": "code",
   "execution_count": 10,
   "metadata": {},
   "outputs": [],
   "source": [
    "def rename_parking_lot(old_name):\n",
    "    new_name = re.sub(r'\\([^)]*\\)', '', old_name) # 괄호 안에 든 문자열 제거\n",
    "    if '주차장' not in new_name:\n",
    "        new_name = new_name + \" 주차장\"          # 주차장 이라는 문자열 없으면 붙여줌 \n",
    "    return new_name"
   ]
  },
  {
   "cell_type": "code",
   "execution_count": 11,
   "metadata": {
    "scrolled": true
   },
   "outputs": [
    {
     "data": {
      "text/html": [
       "<div>\n",
       "<style scoped>\n",
       "    .dataframe tbody tr th:only-of-type {\n",
       "        vertical-align: middle;\n",
       "    }\n",
       "\n",
       "    .dataframe tbody tr th {\n",
       "        vertical-align: top;\n",
       "    }\n",
       "\n",
       "    .dataframe thead th {\n",
       "        text-align: right;\n",
       "    }\n",
       "</style>\n",
       "<table border=\"1\" class=\"dataframe\">\n",
       "  <thead>\n",
       "    <tr style=\"text-align: right;\">\n",
       "      <th></th>\n",
       "      <th>주차장코드</th>\n",
       "      <th>주차장명</th>\n",
       "      <th>주소</th>\n",
       "      <th>검색어</th>\n",
       "    </tr>\n",
       "  </thead>\n",
       "  <tbody>\n",
       "    <tr>\n",
       "      <th>0</th>\n",
       "      <td>1010089</td>\n",
       "      <td>초안산근린공원주차장(구)</td>\n",
       "      <td>도봉구 창동 24-0</td>\n",
       "      <td>초안산근린공원주차장</td>\n",
       "    </tr>\n",
       "    <tr>\n",
       "      <th>1</th>\n",
       "      <td>1012254</td>\n",
       "      <td>마들스타디움(근린공원)(구)</td>\n",
       "      <td>노원구 상계동 770-2</td>\n",
       "      <td>마들스타디움 주차장</td>\n",
       "    </tr>\n",
       "    <tr>\n",
       "      <th>2</th>\n",
       "      <td>1013181</td>\n",
       "      <td>마장동(건물) 공영주차장(구)</td>\n",
       "      <td>성동구 마장동 463-2</td>\n",
       "      <td>마장동 공영주차장</td>\n",
       "    </tr>\n",
       "    <tr>\n",
       "      <th>3</th>\n",
       "      <td>1025695</td>\n",
       "      <td>영등포여고 공영(구)</td>\n",
       "      <td>영등포구 신길동 184-3</td>\n",
       "      <td>영등포여고 공영 주차장</td>\n",
       "    </tr>\n",
       "    <tr>\n",
       "      <th>4</th>\n",
       "      <td>1025696</td>\n",
       "      <td>당산근린공원 공영(구)</td>\n",
       "      <td>영등포구 당산동3가 385-0</td>\n",
       "      <td>당산근린공원 공영 주차장</td>\n",
       "    </tr>\n",
       "  </tbody>\n",
       "</table>\n",
       "</div>"
      ],
      "text/plain": [
       "     주차장코드              주차장명                주소            검색어\n",
       "0  1010089     초안산근린공원주차장(구)       도봉구 창동 24-0     초안산근린공원주차장\n",
       "1  1012254   마들스타디움(근린공원)(구)     노원구 상계동 770-2     마들스타디움 주차장\n",
       "2  1013181  마장동(건물) 공영주차장(구)     성동구 마장동 463-2      마장동 공영주차장\n",
       "3  1025695       영등포여고 공영(구)    영등포구 신길동 184-3   영등포여고 공영 주차장\n",
       "4  1025696      당산근린공원 공영(구)  영등포구 당산동3가 385-0  당산근린공원 공영 주차장"
      ]
     },
     "execution_count": 11,
     "metadata": {},
     "output_type": "execute_result"
    }
   ],
   "source": [
    "data2['검색어'] = data2['주차장명'].map(rename_parking_lot)\n",
    "data2.head(5)"
   ]
  },
  {
   "cell_type": "markdown",
   "metadata": {},
   "source": [
    "### 1-3 URL 저장\n",
    "URL 이라는 이름의 열을 만들어, '검색어' 열에 대한 검색 결과를 보여주는 URL을 저장한다."
   ]
  },
  {
   "cell_type": "code",
   "execution_count": 12,
   "metadata": {},
   "outputs": [],
   "source": [
    "from selenium import webdriver\n",
    "from selenium.webdriver.chrome.service import Service\n",
    "from webdriver_manager.chrome import ChromeDriverManager\n",
    "\n",
    "import time\n",
    "\n",
    "def set_chrome_driver():\n",
    "    chrome_options = webdriver.ChromeOptions()\n",
    "    driver = webdriver.Chrome(service=Service(ChromeDriverManager().install()), options=chrome_options)\n",
    "    return driver"
   ]
  },
  {
   "cell_type": "code",
   "execution_count": 13,
   "metadata": {
    "scrolled": true
   },
   "outputs": [
    {
     "data": {
      "text/html": [
       "<div>\n",
       "<style scoped>\n",
       "    .dataframe tbody tr th:only-of-type {\n",
       "        vertical-align: middle;\n",
       "    }\n",
       "\n",
       "    .dataframe tbody tr th {\n",
       "        vertical-align: top;\n",
       "    }\n",
       "\n",
       "    .dataframe thead th {\n",
       "        text-align: right;\n",
       "    }\n",
       "</style>\n",
       "<table border=\"1\" class=\"dataframe\">\n",
       "  <thead>\n",
       "    <tr style=\"text-align: right;\">\n",
       "      <th></th>\n",
       "      <th>주차장코드</th>\n",
       "      <th>주차장명</th>\n",
       "      <th>주소</th>\n",
       "      <th>검색어</th>\n",
       "      <th>url</th>\n",
       "    </tr>\n",
       "  </thead>\n",
       "  <tbody>\n",
       "    <tr>\n",
       "      <th>0</th>\n",
       "      <td>1010089</td>\n",
       "      <td>초안산근린공원주차장(구)</td>\n",
       "      <td>도봉구 창동 24-0</td>\n",
       "      <td>초안산근린공원주차장</td>\n",
       "      <td></td>\n",
       "    </tr>\n",
       "    <tr>\n",
       "      <th>1</th>\n",
       "      <td>1012254</td>\n",
       "      <td>마들스타디움(근린공원)(구)</td>\n",
       "      <td>노원구 상계동 770-2</td>\n",
       "      <td>마들스타디움 주차장</td>\n",
       "      <td></td>\n",
       "    </tr>\n",
       "  </tbody>\n",
       "</table>\n",
       "</div>"
      ],
      "text/plain": [
       "     주차장코드             주차장명             주소         검색어 url\n",
       "0  1010089    초안산근린공원주차장(구)    도봉구 창동 24-0  초안산근린공원주차장    \n",
       "1  1012254  마들스타디움(근린공원)(구)  노원구 상계동 770-2  마들스타디움 주차장    "
      ]
     },
     "execution_count": 13,
     "metadata": {},
     "output_type": "execute_result"
    }
   ],
   "source": [
    "data2['url'] = ''\n",
    "data2.head(2)"
   ]
  },
  {
   "cell_type": "markdown",
   "metadata": {},
   "source": [
    "url 저장 전에 해당 열을 공백으로 초기화해준다."
   ]
  },
  {
   "cell_type": "code",
   "execution_count": 14,
   "metadata": {},
   "outputs": [],
   "source": [
    "driver = set_chrome_driver()"
   ]
  },
  {
   "cell_type": "code",
   "execution_count": 19,
   "metadata": {},
   "outputs": [
    {
     "name": "stderr",
     "output_type": "stream",
     "text": [
      "C:\\Users\\00_ma\\AppData\\Local\\Temp\\ipykernel_25020\\2398377516.py:13: SettingWithCopyWarning: \n",
      "A value is trying to be set on a copy of a slice from a DataFrame\n",
      "\n",
      "See the caveats in the documentation: https://pandas.pydata.org/pandas-docs/stable/user_guide/indexing.html#returning-a-view-versus-a-copy\n",
      "  data2['url'][i] = final_url\n",
      "C:\\Users\\00_ma\\AppData\\Local\\Temp\\ipykernel_25020\\2398377516.py:15: SettingWithCopyWarning: \n",
      "A value is trying to be set on a copy of a slice from a DataFrame\n",
      "\n",
      "See the caveats in the documentation: https://pandas.pydata.org/pandas-docs/stable/user_guide/indexing.html#returning-a-view-versus-a-copy\n",
      "  data2['url'][i] = ''\n"
     ]
    },
    {
     "data": {
      "text/html": [
       "<div>\n",
       "<style scoped>\n",
       "    .dataframe tbody tr th:only-of-type {\n",
       "        vertical-align: middle;\n",
       "    }\n",
       "\n",
       "    .dataframe tbody tr th {\n",
       "        vertical-align: top;\n",
       "    }\n",
       "\n",
       "    .dataframe thead th {\n",
       "        text-align: right;\n",
       "    }\n",
       "</style>\n",
       "<table border=\"1\" class=\"dataframe\">\n",
       "  <thead>\n",
       "    <tr style=\"text-align: right;\">\n",
       "      <th></th>\n",
       "      <th>주차장코드</th>\n",
       "      <th>주차장명</th>\n",
       "      <th>주소</th>\n",
       "      <th>검색어</th>\n",
       "      <th>url</th>\n",
       "    </tr>\n",
       "  </thead>\n",
       "  <tbody>\n",
       "    <tr>\n",
       "      <th>0</th>\n",
       "      <td>1010089</td>\n",
       "      <td>초안산근린공원주차장(구)</td>\n",
       "      <td>도봉구 창동 24-0</td>\n",
       "      <td>초안산근린공원주차장</td>\n",
       "      <td>https://pcmap.place.naver.com/restaurant/35824...</td>\n",
       "    </tr>\n",
       "    <tr>\n",
       "      <th>1</th>\n",
       "      <td>1012254</td>\n",
       "      <td>마들스타디움(근린공원)(구)</td>\n",
       "      <td>노원구 상계동 770-2</td>\n",
       "      <td>마들스타디움 주차장</td>\n",
       "      <td>https://pcmap.place.naver.com/restaurant/10357...</td>\n",
       "    </tr>\n",
       "    <tr>\n",
       "      <th>2</th>\n",
       "      <td>1013181</td>\n",
       "      <td>마장동(건물) 공영주차장(구)</td>\n",
       "      <td>성동구 마장동 463-2</td>\n",
       "      <td>마장동 공영주차장</td>\n",
       "      <td>https://pcmap.place.naver.com/restaurant/70874...</td>\n",
       "    </tr>\n",
       "    <tr>\n",
       "      <th>3</th>\n",
       "      <td>1025695</td>\n",
       "      <td>영등포여고 공영(구)</td>\n",
       "      <td>영등포구 신길동 184-3</td>\n",
       "      <td>영등포여고 공영 주차장</td>\n",
       "      <td>https://pcmap.place.naver.com/restaurant/36005...</td>\n",
       "    </tr>\n",
       "    <tr>\n",
       "      <th>4</th>\n",
       "      <td>1025696</td>\n",
       "      <td>당산근린공원 공영(구)</td>\n",
       "      <td>영등포구 당산동3가 385-0</td>\n",
       "      <td>당산근린공원 공영 주차장</td>\n",
       "      <td>https://pcmap.place.naver.com/restaurant/37416...</td>\n",
       "    </tr>\n",
       "    <tr>\n",
       "      <th>...</th>\n",
       "      <td>...</td>\n",
       "      <td>...</td>\n",
       "      <td>...</td>\n",
       "      <td>...</td>\n",
       "      <td>...</td>\n",
       "    </tr>\n",
       "    <tr>\n",
       "      <th>1102</th>\n",
       "      <td>968503</td>\n",
       "      <td>삼양마을공원지하 공영주차장(구)</td>\n",
       "      <td>강북구 미아동 748-2</td>\n",
       "      <td>삼양마을공원지하 공영주차장</td>\n",
       "      <td></td>\n",
       "    </tr>\n",
       "    <tr>\n",
       "      <th>1103</th>\n",
       "      <td>968514</td>\n",
       "      <td>색동공원 공영주차장(구)</td>\n",
       "      <td>강북구 수유동 49-7</td>\n",
       "      <td>색동공원 공영주차장</td>\n",
       "      <td>https://pcmap.place.naver.com/restaurant/36010...</td>\n",
       "    </tr>\n",
       "    <tr>\n",
       "      <th>1104</th>\n",
       "      <td>980509</td>\n",
       "      <td>비봉주차장(구)</td>\n",
       "      <td>종로구 구기동 139-9</td>\n",
       "      <td>비봉주차장</td>\n",
       "      <td>https://pcmap.place.naver.com/restaurant/37304...</td>\n",
       "    </tr>\n",
       "    <tr>\n",
       "      <th>1105</th>\n",
       "      <td>984617</td>\n",
       "      <td>신도림역환승주차장(구)</td>\n",
       "      <td>구로구 구로동 1-4</td>\n",
       "      <td>신도림역환승주차장</td>\n",
       "      <td>https://pcmap.place.naver.com/restaurant/19491...</td>\n",
       "    </tr>\n",
       "    <tr>\n",
       "      <th>1106</th>\n",
       "      <td>984688</td>\n",
       "      <td>구로아트밸리 지하주차장(구)</td>\n",
       "      <td>구로구 구로동 102-0</td>\n",
       "      <td>구로아트밸리 지하주차장</td>\n",
       "      <td></td>\n",
       "    </tr>\n",
       "  </tbody>\n",
       "</table>\n",
       "<p>1107 rows × 5 columns</p>\n",
       "</div>"
      ],
      "text/plain": [
       "        주차장코드               주차장명                주소             검색어  \\\n",
       "0     1010089      초안산근린공원주차장(구)       도봉구 창동 24-0      초안산근린공원주차장   \n",
       "1     1012254    마들스타디움(근린공원)(구)     노원구 상계동 770-2      마들스타디움 주차장   \n",
       "2     1013181   마장동(건물) 공영주차장(구)     성동구 마장동 463-2       마장동 공영주차장   \n",
       "3     1025695        영등포여고 공영(구)    영등포구 신길동 184-3    영등포여고 공영 주차장   \n",
       "4     1025696       당산근린공원 공영(구)  영등포구 당산동3가 385-0   당산근린공원 공영 주차장   \n",
       "...       ...                ...               ...             ...   \n",
       "1102   968503  삼양마을공원지하 공영주차장(구)     강북구 미아동 748-2  삼양마을공원지하 공영주차장   \n",
       "1103   968514      색동공원 공영주차장(구)      강북구 수유동 49-7      색동공원 공영주차장   \n",
       "1104   980509           비봉주차장(구)     종로구 구기동 139-9           비봉주차장   \n",
       "1105   984617       신도림역환승주차장(구)       구로구 구로동 1-4       신도림역환승주차장   \n",
       "1106   984688    구로아트밸리 지하주차장(구)     구로구 구로동 102-0    구로아트밸리 지하주차장   \n",
       "\n",
       "                                                    url  \n",
       "0     https://pcmap.place.naver.com/restaurant/35824...  \n",
       "1     https://pcmap.place.naver.com/restaurant/10357...  \n",
       "2     https://pcmap.place.naver.com/restaurant/70874...  \n",
       "3     https://pcmap.place.naver.com/restaurant/36005...  \n",
       "4     https://pcmap.place.naver.com/restaurant/37416...  \n",
       "...                                                 ...  \n",
       "1102                                                     \n",
       "1103  https://pcmap.place.naver.com/restaurant/36010...  \n",
       "1104  https://pcmap.place.naver.com/restaurant/37304...  \n",
       "1105  https://pcmap.place.naver.com/restaurant/19491...  \n",
       "1106                                                     \n",
       "\n",
       "[1107 rows x 5 columns]"
      ]
     },
     "execution_count": 19,
     "metadata": {},
     "output_type": "execute_result"
    }
   ],
   "source": [
    "# 77m\n",
    "\n",
    "for i, keyword in enumerate(data2['검색어'].tolist()):\n",
    "    if data2['url'][i] == '':\n",
    "        try:\n",
    "            naver_map_search_url = f'https://map.naver.com/v5/search/{keyword}/place'\n",
    "            # 검색 url\n",
    "            driver.get(naver_map_search_url)\n",
    "            time.sleep(4) # 대기\n",
    "            cu = driver.current_url\n",
    "            res_code = re.findall(r\"place/(\\d+)\", cu) # 번호 알아냄\n",
    "            final_url = 'https://pcmap.place.naver.com/restaurant/'+res_code[0]+'/review/visitor#'\n",
    "            data2['url'][i] = final_url\n",
    "        except IndexError:\n",
    "            data2['url'][i] = ''\n",
    "        \n",
    "data2"
   ]
  },
  {
   "cell_type": "code",
   "execution_count": 20,
   "metadata": {},
   "outputs": [
    {
     "data": {
      "text/html": [
       "<div>\n",
       "<style scoped>\n",
       "    .dataframe tbody tr th:only-of-type {\n",
       "        vertical-align: middle;\n",
       "    }\n",
       "\n",
       "    .dataframe tbody tr th {\n",
       "        vertical-align: top;\n",
       "    }\n",
       "\n",
       "    .dataframe thead th {\n",
       "        text-align: right;\n",
       "    }\n",
       "</style>\n",
       "<table border=\"1\" class=\"dataframe\">\n",
       "  <thead>\n",
       "    <tr style=\"text-align: right;\">\n",
       "      <th></th>\n",
       "      <th>주차장코드</th>\n",
       "      <th>주차장명</th>\n",
       "      <th>주소</th>\n",
       "      <th>검색어</th>\n",
       "      <th>url</th>\n",
       "    </tr>\n",
       "  </thead>\n",
       "  <tbody>\n",
       "    <tr>\n",
       "      <th>0</th>\n",
       "      <td>1010089</td>\n",
       "      <td>초안산근린공원주차장(구)</td>\n",
       "      <td>도봉구 창동 24-0</td>\n",
       "      <td>초안산근린공원주차장</td>\n",
       "      <td>https://pcmap.place.naver.com/restaurant/35824...</td>\n",
       "    </tr>\n",
       "    <tr>\n",
       "      <th>1</th>\n",
       "      <td>1012254</td>\n",
       "      <td>마들스타디움(근린공원)(구)</td>\n",
       "      <td>노원구 상계동 770-2</td>\n",
       "      <td>마들스타디움 주차장</td>\n",
       "      <td>https://pcmap.place.naver.com/restaurant/10357...</td>\n",
       "    </tr>\n",
       "    <tr>\n",
       "      <th>2</th>\n",
       "      <td>1013181</td>\n",
       "      <td>마장동(건물) 공영주차장(구)</td>\n",
       "      <td>성동구 마장동 463-2</td>\n",
       "      <td>마장동 공영주차장</td>\n",
       "      <td>https://pcmap.place.naver.com/restaurant/70874...</td>\n",
       "    </tr>\n",
       "    <tr>\n",
       "      <th>3</th>\n",
       "      <td>1025695</td>\n",
       "      <td>영등포여고 공영(구)</td>\n",
       "      <td>영등포구 신길동 184-3</td>\n",
       "      <td>영등포여고 공영 주차장</td>\n",
       "      <td>https://pcmap.place.naver.com/restaurant/36005...</td>\n",
       "    </tr>\n",
       "    <tr>\n",
       "      <th>4</th>\n",
       "      <td>1025696</td>\n",
       "      <td>당산근린공원 공영(구)</td>\n",
       "      <td>영등포구 당산동3가 385-0</td>\n",
       "      <td>당산근린공원 공영 주차장</td>\n",
       "      <td>https://pcmap.place.naver.com/restaurant/37416...</td>\n",
       "    </tr>\n",
       "    <tr>\n",
       "      <th>...</th>\n",
       "      <td>...</td>\n",
       "      <td>...</td>\n",
       "      <td>...</td>\n",
       "      <td>...</td>\n",
       "      <td>...</td>\n",
       "    </tr>\n",
       "    <tr>\n",
       "      <th>1102</th>\n",
       "      <td>968503</td>\n",
       "      <td>삼양마을공원지하 공영주차장(구)</td>\n",
       "      <td>강북구 미아동 748-2</td>\n",
       "      <td>삼양마을공원지하 공영주차장</td>\n",
       "      <td></td>\n",
       "    </tr>\n",
       "    <tr>\n",
       "      <th>1103</th>\n",
       "      <td>968514</td>\n",
       "      <td>색동공원 공영주차장(구)</td>\n",
       "      <td>강북구 수유동 49-7</td>\n",
       "      <td>색동공원 공영주차장</td>\n",
       "      <td>https://pcmap.place.naver.com/restaurant/36010...</td>\n",
       "    </tr>\n",
       "    <tr>\n",
       "      <th>1104</th>\n",
       "      <td>980509</td>\n",
       "      <td>비봉주차장(구)</td>\n",
       "      <td>종로구 구기동 139-9</td>\n",
       "      <td>비봉주차장</td>\n",
       "      <td>https://pcmap.place.naver.com/restaurant/37304...</td>\n",
       "    </tr>\n",
       "    <tr>\n",
       "      <th>1105</th>\n",
       "      <td>984617</td>\n",
       "      <td>신도림역환승주차장(구)</td>\n",
       "      <td>구로구 구로동 1-4</td>\n",
       "      <td>신도림역환승주차장</td>\n",
       "      <td>https://pcmap.place.naver.com/restaurant/19491...</td>\n",
       "    </tr>\n",
       "    <tr>\n",
       "      <th>1106</th>\n",
       "      <td>984688</td>\n",
       "      <td>구로아트밸리 지하주차장(구)</td>\n",
       "      <td>구로구 구로동 102-0</td>\n",
       "      <td>구로아트밸리 지하주차장</td>\n",
       "      <td></td>\n",
       "    </tr>\n",
       "  </tbody>\n",
       "</table>\n",
       "<p>1107 rows × 5 columns</p>\n",
       "</div>"
      ],
      "text/plain": [
       "        주차장코드               주차장명                주소             검색어  \\\n",
       "0     1010089      초안산근린공원주차장(구)       도봉구 창동 24-0      초안산근린공원주차장   \n",
       "1     1012254    마들스타디움(근린공원)(구)     노원구 상계동 770-2      마들스타디움 주차장   \n",
       "2     1013181   마장동(건물) 공영주차장(구)     성동구 마장동 463-2       마장동 공영주차장   \n",
       "3     1025695        영등포여고 공영(구)    영등포구 신길동 184-3    영등포여고 공영 주차장   \n",
       "4     1025696       당산근린공원 공영(구)  영등포구 당산동3가 385-0   당산근린공원 공영 주차장   \n",
       "...       ...                ...               ...             ...   \n",
       "1102   968503  삼양마을공원지하 공영주차장(구)     강북구 미아동 748-2  삼양마을공원지하 공영주차장   \n",
       "1103   968514      색동공원 공영주차장(구)      강북구 수유동 49-7      색동공원 공영주차장   \n",
       "1104   980509           비봉주차장(구)     종로구 구기동 139-9           비봉주차장   \n",
       "1105   984617       신도림역환승주차장(구)       구로구 구로동 1-4       신도림역환승주차장   \n",
       "1106   984688    구로아트밸리 지하주차장(구)     구로구 구로동 102-0    구로아트밸리 지하주차장   \n",
       "\n",
       "                                                    url  \n",
       "0     https://pcmap.place.naver.com/restaurant/35824...  \n",
       "1     https://pcmap.place.naver.com/restaurant/10357...  \n",
       "2     https://pcmap.place.naver.com/restaurant/70874...  \n",
       "3     https://pcmap.place.naver.com/restaurant/36005...  \n",
       "4     https://pcmap.place.naver.com/restaurant/37416...  \n",
       "...                                                 ...  \n",
       "1102                                                     \n",
       "1103  https://pcmap.place.naver.com/restaurant/36010...  \n",
       "1104  https://pcmap.place.naver.com/restaurant/37304...  \n",
       "1105  https://pcmap.place.naver.com/restaurant/19491...  \n",
       "1106                                                     \n",
       "\n",
       "[1107 rows x 5 columns]"
      ]
     },
     "execution_count": 20,
     "metadata": {},
     "output_type": "execute_result"
    }
   ],
   "source": [
    "data2"
   ]
  },
  {
   "cell_type": "code",
   "execution_count": 21,
   "metadata": {
    "scrolled": false
   },
   "outputs": [],
   "source": [
    "data2.to_csv('url_completed_in_progress.csv', encoding = 'utf-8-sig')"
   ]
  },
  {
   "cell_type": "markdown",
   "metadata": {},
   "source": [
    "완성한 데이터프레임을 csv 파일로 저장한다. "
   ]
  },
  {
   "cell_type": "markdown",
   "metadata": {},
   "source": [
    "## 2. URL 별 리뷰 크롤링\n",
    "\n",
    "1. 에서 추출한 URL을 바탕으로 크롤링을 진행한다."
   ]
  },
  {
   "cell_type": "code",
   "execution_count": 1,
   "metadata": {},
   "outputs": [],
   "source": [
    "import pandas as pd\n",
    "import time\n",
    "import re\n",
    "from bs4 import BeautifulSoup\n",
    "from tqdm import tqdm\n",
    "\n",
    "from selenium import webdriver\n",
    "from selenium.webdriver.common.by import By\n",
    "from selenium.webdriver.common.keys import Keys\n",
    "from selenium.common.exceptions import NoSuchElementException\n",
    "from selenium.common.exceptions import InvalidArgumentException\n",
    "\n",
    "from selenium.webdriver.chrome.service import Service\n",
    "from webdriver_manager.chrome import ChromeDriverManager"
   ]
  },
  {
   "cell_type": "code",
   "execution_count": 12,
   "metadata": {},
   "outputs": [],
   "source": [
    "chrome_options = webdriver.ChromeOptions()\n",
    "chrome_options.add_argument(\"--incognito\")\n",
    "chrome_options.add_argument(\"--headless\")\n",
    "chrome_options.add_argument(\"--no-sandbox\")\n",
    "chrome_options.add_argument(\"--disable-setuid-sandbox\")\n",
    "chrome_options.add_argument(\"--disable-dev-shm-usage\")\n",
    "chrome_options.add_experimental_option('excludeSwitches', ['enable-logging'])\n",
    "\n",
    "driver = webdriver.Chrome(service=Service('chromedriver.exe'), options=chrome_options)\n",
    "\n"
   ]
  },
  {
   "cell_type": "code",
   "execution_count": 3,
   "metadata": {},
   "outputs": [],
   "source": [
    "df = pd.read_csv('url_completed_in_progress.csv')"
   ]
  },
  {
   "cell_type": "code",
   "execution_count": 4,
   "metadata": {
    "scrolled": false
   },
   "outputs": [],
   "source": [
    "df['rank'] = 0"
   ]
  },
  {
   "cell_type": "markdown",
   "metadata": {},
   "source": [
    "주차장 하나에 해당하는 리뷰들을 하나의 csv 파일로 저장한다.\n",
    "\n",
    "평균별점 같은 경우에 csv 파일에 덧붙인다."
   ]
  },
  {
   "cell_type": "code",
   "execution_count": 5,
   "metadata": {},
   "outputs": [
    {
     "data": {
      "text/html": [
       "<div>\n",
       "<style scoped>\n",
       "    .dataframe tbody tr th:only-of-type {\n",
       "        vertical-align: middle;\n",
       "    }\n",
       "\n",
       "    .dataframe tbody tr th {\n",
       "        vertical-align: top;\n",
       "    }\n",
       "\n",
       "    .dataframe thead th {\n",
       "        text-align: right;\n",
       "    }\n",
       "</style>\n",
       "<table border=\"1\" class=\"dataframe\">\n",
       "  <thead>\n",
       "    <tr style=\"text-align: right;\">\n",
       "      <th></th>\n",
       "      <th>parkingId</th>\n",
       "      <th>url</th>\n",
       "      <th>rank</th>\n",
       "    </tr>\n",
       "  </thead>\n",
       "  <tbody>\n",
       "    <tr>\n",
       "      <th>0</th>\n",
       "      <td>1010089</td>\n",
       "      <td>https://pcmap.place.naver.com/restaurant/35824...</td>\n",
       "      <td>0</td>\n",
       "    </tr>\n",
       "    <tr>\n",
       "      <th>1</th>\n",
       "      <td>1012254</td>\n",
       "      <td>https://pcmap.place.naver.com/restaurant/10357...</td>\n",
       "      <td>0</td>\n",
       "    </tr>\n",
       "    <tr>\n",
       "      <th>2</th>\n",
       "      <td>1013181</td>\n",
       "      <td>https://pcmap.place.naver.com/restaurant/70874...</td>\n",
       "      <td>0</td>\n",
       "    </tr>\n",
       "    <tr>\n",
       "      <th>3</th>\n",
       "      <td>1025695</td>\n",
       "      <td>https://pcmap.place.naver.com/restaurant/36005...</td>\n",
       "      <td>0</td>\n",
       "    </tr>\n",
       "    <tr>\n",
       "      <th>4</th>\n",
       "      <td>1025696</td>\n",
       "      <td>https://pcmap.place.naver.com/restaurant/37416...</td>\n",
       "      <td>0</td>\n",
       "    </tr>\n",
       "    <tr>\n",
       "      <th>...</th>\n",
       "      <td>...</td>\n",
       "      <td>...</td>\n",
       "      <td>...</td>\n",
       "    </tr>\n",
       "    <tr>\n",
       "      <th>676</th>\n",
       "      <td>968483</td>\n",
       "      <td>https://pcmap.place.naver.com/restaurant/21185...</td>\n",
       "      <td>0</td>\n",
       "    </tr>\n",
       "    <tr>\n",
       "      <th>677</th>\n",
       "      <td>968494</td>\n",
       "      <td>https://pcmap.place.naver.com/restaurant/21185...</td>\n",
       "      <td>0</td>\n",
       "    </tr>\n",
       "    <tr>\n",
       "      <th>678</th>\n",
       "      <td>968514</td>\n",
       "      <td>https://pcmap.place.naver.com/restaurant/36010...</td>\n",
       "      <td>0</td>\n",
       "    </tr>\n",
       "    <tr>\n",
       "      <th>679</th>\n",
       "      <td>980509</td>\n",
       "      <td>https://pcmap.place.naver.com/restaurant/37304...</td>\n",
       "      <td>0</td>\n",
       "    </tr>\n",
       "    <tr>\n",
       "      <th>680</th>\n",
       "      <td>984617</td>\n",
       "      <td>https://pcmap.place.naver.com/restaurant/19491...</td>\n",
       "      <td>0</td>\n",
       "    </tr>\n",
       "  </tbody>\n",
       "</table>\n",
       "<p>681 rows × 3 columns</p>\n",
       "</div>"
      ],
      "text/plain": [
       "     parkingId                                                url  rank\n",
       "0      1010089  https://pcmap.place.naver.com/restaurant/35824...     0\n",
       "1      1012254  https://pcmap.place.naver.com/restaurant/10357...     0\n",
       "2      1013181  https://pcmap.place.naver.com/restaurant/70874...     0\n",
       "3      1025695  https://pcmap.place.naver.com/restaurant/36005...     0\n",
       "4      1025696  https://pcmap.place.naver.com/restaurant/37416...     0\n",
       "..         ...                                                ...   ...\n",
       "676     968483  https://pcmap.place.naver.com/restaurant/21185...     0\n",
       "677     968494  https://pcmap.place.naver.com/restaurant/21185...     0\n",
       "678     968514  https://pcmap.place.naver.com/restaurant/36010...     0\n",
       "679     980509  https://pcmap.place.naver.com/restaurant/37304...     0\n",
       "680     984617  https://pcmap.place.naver.com/restaurant/19491...     0\n",
       "\n",
       "[681 rows x 3 columns]"
      ]
     },
     "execution_count": 5,
     "metadata": {},
     "output_type": "execute_result"
    }
   ],
   "source": [
    "result_df = pd.DataFrame()\n",
    "result_df['parkingId'] = df['주차장코드']\n",
    "result_df['url'] = df['url']\n",
    "result_df['rank'] = 0\n",
    "result_df.dropna(axis=0, inplace=True)\n",
    "result_df.reset_index(drop=True, inplace=True)\n",
    "\n",
    "result_df"
   ]
  },
  {
   "cell_type": "markdown",
   "metadata": {},
   "source": [
    "절차 간소화를 위해 해당 장소의 별점만 먼저 수집한다."
   ]
  },
  {
   "cell_type": "code",
   "execution_count": 6,
   "metadata": {
    "scrolled": false
   },
   "outputs": [
    {
     "name": "stderr",
     "output_type": "stream",
     "text": [
      "  0%|          | 0/681 [00:00<?, ?it/s]C:\\Users\\00_ma\\AppData\\Local\\Temp\\ipykernel_9496\\838816152.py:12: SettingWithCopyWarning: \n",
      "A value is trying to be set on a copy of a slice from a DataFrame\n",
      "\n",
      "See the caveats in the documentation: https://pandas.pydata.org/pandas-docs/stable/user_guide/indexing.html#returning-a-view-versus-a-copy\n",
      "  result_df['rank'][i] = int(float(rank))    # 평균 별점\n",
      "100%|██████████| 681/681 [32:47<00:00,  2.89s/it]\n"
     ]
    }
   ],
   "source": [
    "# 별점만 - 33m\n",
    "for i in tqdm(range(result_df.shape[0])):\n",
    "        try:\n",
    "            driver.get(result_df['url'][i])\n",
    "            thisurl = result_df['url'][i]\n",
    "            time.sleep(2)\n",
    "        except InvalidArgumentException:\n",
    "            continue\n",
    "        \n",
    "        try:\n",
    "            rank = driver.find_element(By.XPATH, '//*[@id=\"app-root\"]/div/div/div/div[2]/div[1]/div[2]/span[1]/em').text\n",
    "            result_df['rank'][i] = int(float(rank))    # 평균 별점\n",
    "        except:\n",
    "            pass"
   ]
  },
  {
   "cell_type": "code",
   "execution_count": 7,
   "metadata": {},
   "outputs": [],
   "source": [
    "result_df.to_csv(\"result_df_tmp.csv\")"
   ]
  },
  {
   "cell_type": "code",
   "execution_count": 8,
   "metadata": {},
   "outputs": [
    {
     "data": {
      "text/html": [
       "<div>\n",
       "<style scoped>\n",
       "    .dataframe tbody tr th:only-of-type {\n",
       "        vertical-align: middle;\n",
       "    }\n",
       "\n",
       "    .dataframe tbody tr th {\n",
       "        vertical-align: top;\n",
       "    }\n",
       "\n",
       "    .dataframe thead th {\n",
       "        text-align: right;\n",
       "    }\n",
       "</style>\n",
       "<table border=\"1\" class=\"dataframe\">\n",
       "  <thead>\n",
       "    <tr style=\"text-align: right;\">\n",
       "      <th></th>\n",
       "      <th>parkingId</th>\n",
       "      <th>url</th>\n",
       "      <th>rank</th>\n",
       "    </tr>\n",
       "  </thead>\n",
       "  <tbody>\n",
       "    <tr>\n",
       "      <th>0</th>\n",
       "      <td>1010089</td>\n",
       "      <td>https://pcmap.place.naver.com/restaurant/35824...</td>\n",
       "      <td>4</td>\n",
       "    </tr>\n",
       "    <tr>\n",
       "      <th>1</th>\n",
       "      <td>1012254</td>\n",
       "      <td>https://pcmap.place.naver.com/restaurant/10357...</td>\n",
       "      <td>0</td>\n",
       "    </tr>\n",
       "    <tr>\n",
       "      <th>2</th>\n",
       "      <td>1013181</td>\n",
       "      <td>https://pcmap.place.naver.com/restaurant/70874...</td>\n",
       "      <td>4</td>\n",
       "    </tr>\n",
       "    <tr>\n",
       "      <th>3</th>\n",
       "      <td>1025695</td>\n",
       "      <td>https://pcmap.place.naver.com/restaurant/36005...</td>\n",
       "      <td>0</td>\n",
       "    </tr>\n",
       "    <tr>\n",
       "      <th>4</th>\n",
       "      <td>1025696</td>\n",
       "      <td>https://pcmap.place.naver.com/restaurant/37416...</td>\n",
       "      <td>4</td>\n",
       "    </tr>\n",
       "    <tr>\n",
       "      <th>...</th>\n",
       "      <td>...</td>\n",
       "      <td>...</td>\n",
       "      <td>...</td>\n",
       "    </tr>\n",
       "    <tr>\n",
       "      <th>676</th>\n",
       "      <td>968483</td>\n",
       "      <td>https://pcmap.place.naver.com/restaurant/21185...</td>\n",
       "      <td>4</td>\n",
       "    </tr>\n",
       "    <tr>\n",
       "      <th>677</th>\n",
       "      <td>968494</td>\n",
       "      <td>https://pcmap.place.naver.com/restaurant/21185...</td>\n",
       "      <td>0</td>\n",
       "    </tr>\n",
       "    <tr>\n",
       "      <th>678</th>\n",
       "      <td>968514</td>\n",
       "      <td>https://pcmap.place.naver.com/restaurant/36010...</td>\n",
       "      <td>0</td>\n",
       "    </tr>\n",
       "    <tr>\n",
       "      <th>679</th>\n",
       "      <td>980509</td>\n",
       "      <td>https://pcmap.place.naver.com/restaurant/37304...</td>\n",
       "      <td>4</td>\n",
       "    </tr>\n",
       "    <tr>\n",
       "      <th>680</th>\n",
       "      <td>984617</td>\n",
       "      <td>https://pcmap.place.naver.com/restaurant/19491...</td>\n",
       "      <td>4</td>\n",
       "    </tr>\n",
       "  </tbody>\n",
       "</table>\n",
       "<p>681 rows × 3 columns</p>\n",
       "</div>"
      ],
      "text/plain": [
       "     parkingId                                                url  rank\n",
       "0      1010089  https://pcmap.place.naver.com/restaurant/35824...     4\n",
       "1      1012254  https://pcmap.place.naver.com/restaurant/10357...     0\n",
       "2      1013181  https://pcmap.place.naver.com/restaurant/70874...     4\n",
       "3      1025695  https://pcmap.place.naver.com/restaurant/36005...     0\n",
       "4      1025696  https://pcmap.place.naver.com/restaurant/37416...     4\n",
       "..         ...                                                ...   ...\n",
       "676     968483  https://pcmap.place.naver.com/restaurant/21185...     4\n",
       "677     968494  https://pcmap.place.naver.com/restaurant/21185...     0\n",
       "678     968514  https://pcmap.place.naver.com/restaurant/36010...     0\n",
       "679     980509  https://pcmap.place.naver.com/restaurant/37304...     4\n",
       "680     984617  https://pcmap.place.naver.com/restaurant/19491...     4\n",
       "\n",
       "[681 rows x 3 columns]"
      ]
     },
     "execution_count": 8,
     "metadata": {},
     "output_type": "execute_result"
    }
   ],
   "source": [
    "result_df"
   ]
  },
  {
   "cell_type": "markdown",
   "metadata": {},
   "source": [
    "전체 리뷰에 대해 수집한다."
   ]
  },
  {
   "cell_type": "code",
   "execution_count": 14,
   "metadata": {},
   "outputs": [
    {
     "name": "stderr",
     "output_type": "stream",
     "text": [
      "100%|██████████| 681/681 [11:46:10<00:00, 62.22s/it]   \n"
     ]
    }
   ],
   "source": [
    "# 리뷰 전체\n",
    "# 1h15m\n",
    "\n",
    "import os.path\n",
    "from tqdm import tqdm\n",
    "\n",
    "for i in tqdm(range(result_df.shape[0])):\n",
    "    if os.path.exists(\"reviews/\" + str(result_df['parkingId'][i])):\n",
    "        # 이미 크롤링 한 거 패쓰\n",
    "        continue\n",
    "    try:\n",
    "        driver.get(result_df['url'][i])\n",
    "        thisurl = result_df['url'][i]\n",
    "        time.sleep(2)\n",
    "    except InvalidArgumentException:\n",
    "        continue\n",
    "    \n",
    "    # 더보기 버튼 다 누르기 \n",
    "    while True:\n",
    "        try:\n",
    "            time.sleep(1)\n",
    "            driver.find_element(by=By.TAG_NAME, value='body').send_keys(Keys.END)\n",
    "            time.sleep(3)\n",
    "            driver.find_element(by=By.CSS_SELECTOR, value='#app-root > div > div > div > div:nth-child(7) > div:nth-child(2) > div.place_section.lcndr > div.lfH3O > a').click()\n",
    "            \n",
    "            time.sleep(3)\n",
    "            driver.find_element(by=By.TAG_NAME, value='body').send_keys(Keys.END)\n",
    "            time.sleep(1)\n",
    "        except NoSuchElementException:\n",
    "            # print(\"-더보기버튼 모두 클릭 완료-\")\n",
    "            break\n",
    "    # 파싱\n",
    "    html = driver.page_source\n",
    "    soup = BeautifulSoup(html, 'html.parser')\n",
    "    \n",
    "    comments = []\n",
    "    for comment in soup.find_all('span', class_='zPfVt'):\n",
    "        comments.append(comment.get_text())    # 리뷰들 \n",
    "    \n",
    "    # 리뷰를 모아서 csv 파일로 저장\n",
    "    df2 = pd.DataFrame({\"Comments\":comments})\n",
    "    file_name = \"reviews/\" + str(result_df['parkingId'][i]) + \".csv\"\n",
    "    df2.to_csv(file_name, index= False, encoding='utf-8', escapechar=\"\\\\\") #파일경로\n",
    "        "
   ]
  },
  {
   "cell_type": "code",
   "execution_count": 15,
   "metadata": {},
   "outputs": [],
   "source": [
    "driver.quit()    # 드라이버 종료"
   ]
  },
  {
   "cell_type": "code",
   "execution_count": 16,
   "metadata": {},
   "outputs": [],
   "source": [
    "result_df.to_csv('result_df.csv', encoding='utf-8')"
   ]
  },
  {
   "cell_type": "markdown",
   "metadata": {},
   "source": [
    "## 3. 리뷰 데이터 전처리 "
   ]
  },
  {
   "cell_type": "code",
   "execution_count": 33,
   "metadata": {
    "scrolled": true
   },
   "outputs": [],
   "source": [
    "#import할 패키지 목록\n",
    "import re\n",
    "import pandas as pd\n",
    "from tqdm import tqdm\n",
    "from konlpy.tag import Okt\n",
    "from hanspell import spell_checker\n",
    "from collections import Counter\n",
    "import numpy as np\n",
    "import os"
   ]
  },
  {
   "cell_type": "markdown",
   "metadata": {},
   "source": [
    "DB의 Table에 들어가는 최종 결과 csv를 만든다.\n",
    "\n",
    "DB의 스키마는 다음과 같다.\n",
    "- review_id BIGINT\n",
    "- created_date DATETIME(6)\n",
    "- modified_date DATETIME(6)\n",
    "- eval_costefficient VARCHAR(255)\n",
    "- eval_parkinglevel VARCHAR(255)\n",
    "- eval_revisit VARCHAR(255)\n",
    "- eval_space VARCHAR(255)\n",
    "- eval_staff VARCHAR(255)\n",
    "- star_score INT\n",
    "- parking_code VARCHAR(100)\n",
    "- user_id BIGINT"
   ]
  },
  {
   "cell_type": "code",
   "execution_count": 34,
   "metadata": {},
   "outputs": [],
   "source": [
    "headers = ['review_id', 'created_date', 'modified_date', 'eval_costefficient', 'eval_parkinglevel', 'eval_revisit', 'eval_space', 'eval_staff', 'star_score', 'parking_code', 'user_id']\n",
    "result = pd.DataFrame()\n"
   ]
  },
  {
   "cell_type": "code",
   "execution_count": null,
   "metadata": {},
   "outputs": [],
   "source": [
    "result_df = pd.read_csv(\"result_df.csv\")\n",
    "original_df = pd.read_csv(\"url_completed_in_progress.csv\")"
   ]
  },
  {
   "cell_type": "code",
   "execution_count": 70,
   "metadata": {},
   "outputs": [
    {
     "name": "stdout",
     "output_type": "stream",
     "text": [
      "   parking_code  star_score  review_id  user_id eval_space eval_parkinglevel  \\\n",
      "0       1010089           4      10000        1     MIDDLE              FINE   \n",
      "1       1012254           0      10000        1     MIDDLE              FINE   \n",
      "2       1013181           4      10000        1     MIDDLE              FINE   \n",
      "3       1025695           0      10000        1     MIDDLE              FINE   \n",
      "4       1025696           4      10000        1     MIDDLE              FINE   \n",
      "\n",
      "  eval_costefficient eval_staff eval_revisit  \n",
      "0               FAIR   MODERATE          YES  \n",
      "1               FAIR   MODERATE          YES  \n",
      "2               FAIR   MODERATE          YES  \n",
      "3               FAIR   MODERATE          YES  \n",
      "4               FAIR   MODERATE          YES  \n",
      "(681, 9)\n"
     ]
    }
   ],
   "source": [
    "# result는 하나의 리뷰 단위로 들어가는 칼럼이라 그냥 큰 반복문에서 돌려야겠다.. \n",
    "result = result_df[['parkingId', 'rank']].copy()\n",
    "result.columns = ['parking_code', 'star_score']\n",
    "\n",
    "# 크롤링 해서 가져온 review_id는 PK라서 10000에서 시작해서 증가해주는걸로 해줬다.\n",
    "result['review_id'] = 10000\n",
    "# 크롤링 해서 가져온 user_id는 일괄적으로 1(이름:superuser)로 설정\n",
    "result['user_id'] = 1\n",
    "\n",
    "result['eval_space'] = \"MIDDLE\"\n",
    "result['eval_parkinglevel'] = \"FINE\"\n",
    "result['eval_costefficient'] = \"FAIR\"\n",
    "result['eval_staff'] = \"MODERATE\"\n",
    "result['eval_revisit'] = \"YES\"\n",
    "print(result.head())\n",
    "print(result.shape)"
   ]
  },
  {
   "cell_type": "markdown",
   "metadata": {},
   "source": [
    "데이터프레임의 형태가 잡혔으니 키워드 추출을 수행한다."
   ]
  },
  {
   "cell_type": "code",
   "execution_count": 50,
   "metadata": {},
   "outputs": [],
   "source": [
    "def extract_word(text):\n",
    "    hangul = re.compile('[^가-힣]')\n",
    "    result = hangul.sub(' ', text)\n",
    "    return result"
   ]
  },
  {
   "cell_type": "code",
   "execution_count": 51,
   "metadata": {},
   "outputs": [],
   "source": [
    "def spell_check(text):\n",
    "    if text:\n",
    "        spelled_sent = spell_checker.check(text)\n",
    "        hanspell_sent = spelled_sent.checked\n",
    "        return hanspell_sent\n",
    "    else:\n",
    "        return \"\""
   ]
  },
  {
   "cell_type": "code",
   "execution_count": 52,
   "metadata": {},
   "outputs": [
    {
     "data": {
      "text/plain": [
       "'\\n0: evalSpace, 1: evalParkinglevel, 2: evalCostefficient, \\n3: evalStaff, 4: evalRevisit\\n'"
      ]
     },
     "execution_count": 52,
     "metadata": {},
     "output_type": "execute_result"
    }
   ],
   "source": [
    "keywords = [[\"넓다\"], [\"좁다\", \"협소\"], \\\n",
    "            [\"쉽다\", \"편하다\"], [\"어렵다\", \"힘들다\"], \\\n",
    "            [\"저렴하다\", \"싸다\", \"쌈\"], [\"비싸다\"], \\\n",
    "            [\"친절하다\"], [\"불친절하다\"], \\\n",
    "            [\"좋다\", \"굿\", \"굳\", \"자주\", \"추천\"], [\"아쉽다\", \"별로\"]]\n",
    "\n",
    "\"\"\"\n",
    "0: evalSpace, 1: evalParkinglevel, 2: evalCostefficient, \n",
    "3: evalStaff, 4: evalRevisit\n",
    "\"\"\""
   ]
  },
  {
   "cell_type": "code",
   "execution_count": 53,
   "metadata": {},
   "outputs": [],
   "source": [
    "\"\"\"\n",
    "긍정 키워드와 부정 키워드의 비율을 놓고, \n",
    "어느 한쪽의 비율이 2:1 보다 클 때만 해당 키워드를 출력한다.\n",
    "\"\"\"\n",
    "\n",
    "def parse_keyword(keywords_freq):\n",
    "    keywords_freq_ratio = np.array(keywords_freq).reshape(5, 2)\n",
    "    keywords_result = np.arange(15).reshape(5, 3)\n",
    "    for i in range(5):\n",
    "        if keywords_freq_ratio[i][0] + keywords_freq_ratio[i][1] == 0:\n",
    "            ratio = 1\n",
    "        elif keywords_freq_ratio[i][0] == 0:\n",
    "            ratio = 0\n",
    "        elif keywords_freq_ratio[i][1] == 0:\n",
    "            ratio = 999\n",
    "        else:\n",
    "            ratio = keywords_freq_ratio[i][0] / keywords_freq_ratio[i][1]\n",
    "        if ratio >= 2:\n",
    "            # 좋음!\n",
    "            keywords_result[i] = [1, 0, 0]\n",
    "        elif ratio <= 0.5:\n",
    "            # 나쁨!\n",
    "            keywords_result[i] = [0, 0, 1]\n",
    "        else:\n",
    "            # 중간 or 정보 없음\n",
    "            keywords_result[i] = [0, 1, 0]\n",
    "\n",
    "    return keywords_result\n",
    "        "
   ]
  },
  {
   "cell_type": "code",
   "execution_count": 54,
   "metadata": {},
   "outputs": [],
   "source": [
    "def get_keyword_result(filepath):\n",
    "    review = pd.read_csv(filepath, encoding='utf-8')\n",
    "    \n",
    "    review['Comments'] = review['Comments'].apply(lambda x:extract_word(x))\n",
    "    review['Comments'] = review['Comments'].apply(lambda x:spell_check(x)) \n",
    "    # 형태소분석 - Okt\n",
    "    okt = Okt()\n",
    "    words = \" \".join(review['Comments'].tolist())\n",
    "    words = okt.morphs(words, stem=True)\n",
    "    # 불용어\n",
    "    with open('stopwords.txt', 'r') as f:\n",
    "        list_file = f.readlines()\n",
    "    stopwords = list_file[0].split(\",\")\n",
    "    remove_stopwords = [x for x in words if x not in stopwords]\n",
    "    # (단어, 빈도수) 쌍 추출\n",
    "    frequent = Counter(remove_stopwords).most_common()\n",
    "    \n",
    "    # 우리 프로젝트에 필요한 키워드와 대조.\n",
    "    keywords_freq = [0] * 10\n",
    "    # 키워드와 비교하여 Count\n",
    "    frequent = Counter(remove_stopwords).most_common()\n",
    "    for morp in frequent:\n",
    "        for i in range(len(keywords)):\n",
    "            for j in range(len(keywords[i])):\n",
    "                if morp[0] == keywords[i][j]:\n",
    "                    keywords_freq[i] += morp[1]\n",
    "    keyword_result = parse_keyword(keywords_freq)\n",
    "    return keyword_result\n"
   ]
  },
  {
   "cell_type": "code",
   "execution_count": 65,
   "metadata": {},
   "outputs": [
    {
     "name": "stdout",
     "output_type": "stream",
     "text": [
      "10000\n"
     ]
    }
   ],
   "source": [
    "# print(str(result['parking_code'][0]))\n",
    "# result.shape[0]\n",
    "print(result.at[result.index[0], 'review_id'])"
   ]
  },
  {
   "cell_type": "code",
   "execution_count": 71,
   "metadata": {},
   "outputs": [
    {
     "name": "stderr",
     "output_type": "stream",
     "text": [
      "100%|██████████| 681/681 [00:26<00:00, 25.96it/s]\n"
     ]
    }
   ],
   "source": [
    "import os\n",
    "\n",
    "# 26s\n",
    "\n",
    "review_id = 10001\n",
    "dir_name = \"reviews/preprocess/\"\n",
    "for i in tqdm(range(0, result.shape[0])):\n",
    "    result.at[result.index[i], 'review_id'] = review_id\n",
    "    filepath = dir_name + str(result['parking_code'][i]) + \".csv\"\n",
    "    keyword_result = get_keyword_result(filepath)\n",
    "    \n",
    "    # print(filepath)\n",
    "    for j in range(5):\n",
    "        good = keyword_result[j][0]\n",
    "        mid = keyword_result[j][1]\n",
    "        bad = keyword_result[j][2]\n",
    "        # print(j, good, mid, bad)\n",
    "        \n",
    "        if j == 0:\n",
    "            if good == 1:\n",
    "                result.at[result.index[i], 'eval_space'] = \"LARGE\"\n",
    "            elif mid == 1:\n",
    "                result.at[result.index[i], 'eval_space'] = \"MIDDLE\"\n",
    "            else:\n",
    "                result.at[result.index[i], 'eval_space'] = \"SMALL\"\n",
    "        elif j == 1:\n",
    "            if good == 1:\n",
    "                result.at[result.index[i], 'eval_parkinglevel'] = \"EASY\"\n",
    "            elif mid == 1:\n",
    "                result.at[result.index[i], 'eval_parkinglevel'] = \"FINE\"\n",
    "            else:\n",
    "                result.at[result.index[i], 'eval_parkinglevel'] = \"HARD\"\n",
    "        elif j == 2:\n",
    "            if good == 1:\n",
    "                result.at[result.index[i], 'eval_costefficient'] = \"CHEAP\"\n",
    "            elif mid == 1:\n",
    "                result.at[result.index[i], 'eval_costefficient'] = \"FAIR\"\n",
    "            else:\n",
    "                result.at[result.index[i], 'eval_costefficient'] = \"OVERPRICED\"\n",
    "        elif j == 3:\n",
    "            if good == 1:\n",
    "                result.at[result.index[i], 'eval_staff'] = \"FRIENDLY\"\n",
    "            elif mid == 1:\n",
    "                result.at[result.index[i], 'eval_staff'] = \"MODERATE\"\n",
    "            else:\n",
    "                result.at[result.index[i], 'eval_staff'] = \"COLD\"\n",
    "        elif j == 4:\n",
    "            if good == 1 or mid == 1:\n",
    "                result.at[result.index[i], 'eval_revisit'] = \"YES\"\n",
    "            else:\n",
    "                result.at[result.index[i], 'eval_revisit'] = \"NO\"\n",
    "    \n",
    "    review_id += 1\n"
   ]
  },
  {
   "cell_type": "code",
   "execution_count": 72,
   "metadata": {},
   "outputs": [
    {
     "name": "stdout",
     "output_type": "stream",
     "text": [
      "     parking_code  star_score  review_id  user_id eval_space  \\\n",
      "0         1010089           4      10001        1      LARGE   \n",
      "1         1012254           0      10002        1     MIDDLE   \n",
      "2         1013181           4      10003        1      SMALL   \n",
      "3         1025695           0      10004        1     MIDDLE   \n",
      "4         1025696           4      10005        1      LARGE   \n",
      "..            ...         ...        ...      ...        ...   \n",
      "676        968483           4      10677        1      SMALL   \n",
      "677        968494           0      10678        1     MIDDLE   \n",
      "678        968514           0      10679        1     MIDDLE   \n",
      "679        980509           4      10680        1     MIDDLE   \n",
      "680        984617           4      10681        1     MIDDLE   \n",
      "\n",
      "    eval_parkinglevel eval_costefficient eval_staff eval_revisit  \n",
      "0                EASY              CHEAP   MODERATE          YES  \n",
      "1                EASY              CHEAP   MODERATE          YES  \n",
      "2                EASY               FAIR   MODERATE          YES  \n",
      "3                FINE               FAIR   MODERATE          YES  \n",
      "4                EASY              CHEAP   FRIENDLY          YES  \n",
      "..                ...                ...        ...          ...  \n",
      "676              FINE               FAIR   MODERATE          YES  \n",
      "677              FINE               FAIR   MODERATE          YES  \n",
      "678              FINE               FAIR   MODERATE          YES  \n",
      "679              FINE              CHEAP   FRIENDLY          YES  \n",
      "680              EASY              CHEAP   MODERATE          YES  \n",
      "\n",
      "[681 rows x 9 columns]\n"
     ]
    }
   ],
   "source": [
    "print(result)\n",
    "result.to_csv(\"real_result.csv\", index=False)"
   ]
  },
  {
   "cell_type": "markdown",
   "metadata": {},
   "source": [
    "(5,2) 형태로 어떤 keyword인지 도출되었다."
   ]
  }
 ],
 "metadata": {
  "kernelspec": {
   "display_name": "Python 3.10.5 64-bit",
   "language": "python",
   "name": "python3"
  },
  "language_info": {
   "codemirror_mode": {
    "name": "ipython",
    "version": 3
   },
   "file_extension": ".py",
   "mimetype": "text/x-python",
   "name": "python",
   "nbconvert_exporter": "python",
   "pygments_lexer": "ipython3",
   "version": "3.10.5"
  },
  "vscode": {
   "interpreter": {
    "hash": "ad0cd16dd0b2e8c3a7399801d6a6dc3b5c1ea4b2b2f1706766cff934f173041f"
   }
  }
 },
 "nbformat": 4,
 "nbformat_minor": 2
}
